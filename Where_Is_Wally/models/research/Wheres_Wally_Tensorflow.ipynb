{
 "cells": [
  {
   "cell_type": "markdown",
   "metadata": {
    "colab_type": "text",
    "id": "V8-yl-s-WKMG"
   },
   "source": [
    "<h1 align=center><font size = 7><font color = red> Where's Wally Solver</font></h1>\n",
    "  \n",
    "<img src=\"Wally.png\" style=\"width: 200px;float: center;\"/>"
   ]
  },
  {
   "cell_type": "markdown",
   "metadata": {},
   "source": [
    "This project uses Tensorflow Object Detection API to solve Where's Wally puzzle. The solver uses the Convolutional Neural Network EfficientDet D0 512x512 pre-trained model from  [TensorFlow 2 Detection Model Zoo](https://github.com/tensorflow/models/blob/master/research/object_detection/g3doc/tf2_detection_zoo.md) and through Transfer Learning, it is retrained with a database of 32 Wally's face images. The model was trained for roughly 7 hours on Google Colab using a cloud GPU."
   ]
  },
  {
   "cell_type": "markdown",
   "metadata": {},
   "source": [
    "## Important:\n",
    "Before running the model, you need to install Tensorflow and all the required libraries properly. [Gilbert Tanner has a great Youtube Tutorial](https://www.youtube.com/watch?v=cvyDYdI2nEI)"
   ]
  },
  {
   "cell_type": "markdown",
   "metadata": {},
   "source": [
    "### Libraries "
   ]
  },
  {
   "cell_type": "code",
   "execution_count": 1,
   "metadata": {},
   "outputs": [
    {
     "name": "stdout",
     "output_type": "stream",
     "text": [
      "Requirement already satisfied: tensorflow==2.* in c:\\users\\nicolasachury\\.conda\\envs\\tensorflow\\lib\\site-packages (2.5.0rc1)\n",
      "Requirement already satisfied: h5py~=3.1.0 in c:\\users\\nicolasachury\\.conda\\envs\\tensorflow\\lib\\site-packages (from tensorflow==2.*) (3.1.0)\n",
      "Requirement already satisfied: termcolor~=1.1.0 in c:\\users\\nicolasachury\\.conda\\envs\\tensorflow\\lib\\site-packages (from tensorflow==2.*) (1.1.0)\n",
      "Requirement already satisfied: opt-einsum~=3.3.0 in c:\\users\\nicolasachury\\.conda\\envs\\tensorflow\\lib\\site-packages (from tensorflow==2.*) (3.3.0)\n",
      "Collecting numpy~=1.19.2\n",
      "  Using cached numpy-1.19.5-cp39-cp39-win_amd64.whl (13.3 MB)\n",
      "Requirement already satisfied: google-pasta~=0.2 in c:\\users\\nicolasachury\\.conda\\envs\\tensorflow\\lib\\site-packages (from tensorflow==2.*) (0.2.0)\n",
      "Requirement already satisfied: tensorflow-estimator<2.6.0,>=2.5.0rc0 in c:\\users\\nicolasachury\\.conda\\envs\\tensorflow\\lib\\site-packages (from tensorflow==2.*) (2.5.0rc0)\n",
      "Requirement already satisfied: flatbuffers~=1.12.0 in c:\\users\\nicolasachury\\.conda\\envs\\tensorflow\\lib\\site-packages (from tensorflow==2.*) (1.12)\n",
      "Requirement already satisfied: wrapt~=1.12.1 in c:\\users\\nicolasachury\\.conda\\envs\\tensorflow\\lib\\site-packages (from tensorflow==2.*) (1.12.1)\n",
      "Requirement already satisfied: keras-preprocessing~=1.1.2 in c:\\users\\nicolasachury\\.conda\\envs\\tensorflow\\lib\\site-packages (from tensorflow==2.*) (1.1.2)\n",
      "Requirement already satisfied: six~=1.15.0 in c:\\users\\nicolasachury\\appdata\\roaming\\python\\python39\\site-packages (from tensorflow==2.*) (1.15.0)\n",
      "Requirement already satisfied: typing-extensions~=3.7.4 in c:\\users\\nicolasachury\\.conda\\envs\\tensorflow\\lib\\site-packages (from tensorflow==2.*) (3.7.4.3)\n",
      "Requirement already satisfied: tensorboard~=2.4 in c:\\users\\nicolasachury\\.conda\\envs\\tensorflow\\lib\\site-packages (from tensorflow==2.*) (2.5.0)\n",
      "Requirement already satisfied: protobuf>=3.9.2 in c:\\users\\nicolasachury\\.conda\\envs\\tensorflow\\lib\\site-packages (from tensorflow==2.*) (3.15.8)\n",
      "Requirement already satisfied: absl-py~=0.10 in c:\\users\\nicolasachury\\.conda\\envs\\tensorflow\\lib\\site-packages (from tensorflow==2.*) (0.12.0)\n",
      "Requirement already satisfied: gast==0.4.0 in c:\\users\\nicolasachury\\.conda\\envs\\tensorflow\\lib\\site-packages (from tensorflow==2.*) (0.4.0)\n",
      "Requirement already satisfied: grpcio~=1.34.0 in c:\\users\\nicolasachury\\.conda\\envs\\tensorflow\\lib\\site-packages (from tensorflow==2.*) (1.34.1)\n",
      "Requirement already satisfied: astunparse~=1.6.3 in c:\\users\\nicolasachury\\.conda\\envs\\tensorflow\\lib\\site-packages (from tensorflow==2.*) (1.6.3)\n",
      "Requirement already satisfied: keras-nightly~=2.5.0.dev in c:\\users\\nicolasachury\\.conda\\envs\\tensorflow\\lib\\site-packages (from tensorflow==2.*) (2.5.0.dev2021032900)\n",
      "Requirement already satisfied: wheel~=0.35 in c:\\users\\nicolasachury\\.conda\\envs\\tensorflow\\lib\\site-packages (from tensorflow==2.*) (0.36.2)\n",
      "Requirement already satisfied: setuptools>=41.0.0 in c:\\users\\nicolasachury\\.conda\\envs\\tensorflow\\lib\\site-packages (from tensorboard~=2.4->tensorflow==2.*) (52.0.0.post20210125)\n",
      "Requirement already satisfied: tensorboard-plugin-wit>=1.6.0 in c:\\users\\nicolasachury\\.conda\\envs\\tensorflow\\lib\\site-packages (from tensorboard~=2.4->tensorflow==2.*) (1.8.0)\n",
      "Requirement already satisfied: requests<3,>=2.21.0 in c:\\users\\nicolasachury\\.conda\\envs\\tensorflow\\lib\\site-packages (from tensorboard~=2.4->tensorflow==2.*) (2.25.1)\n",
      "Requirement already satisfied: werkzeug>=0.11.15 in c:\\users\\nicolasachury\\.conda\\envs\\tensorflow\\lib\\site-packages (from tensorboard~=2.4->tensorflow==2.*) (1.0.1)\n",
      "Requirement already satisfied: google-auth<2,>=1.6.3 in c:\\users\\nicolasachury\\.conda\\envs\\tensorflow\\lib\\site-packages (from tensorboard~=2.4->tensorflow==2.*) (1.29.0)\n",
      "Requirement already satisfied: tensorboard-data-server<0.7.0,>=0.6.0 in c:\\users\\nicolasachury\\.conda\\envs\\tensorflow\\lib\\site-packages (from tensorboard~=2.4->tensorflow==2.*) (0.6.0)\n",
      "Requirement already satisfied: markdown>=2.6.8 in c:\\users\\nicolasachury\\.conda\\envs\\tensorflow\\lib\\site-packages (from tensorboard~=2.4->tensorflow==2.*) (3.3.4)\n",
      "Requirement already satisfied: google-auth-oauthlib<0.5,>=0.4.1 in c:\\users\\nicolasachury\\.conda\\envs\\tensorflow\\lib\\site-packages (from tensorboard~=2.4->tensorflow==2.*) (0.4.4)\n",
      "Requirement already satisfied: cachetools<5.0,>=2.0.0 in c:\\users\\nicolasachury\\.conda\\envs\\tensorflow\\lib\\site-packages (from google-auth<2,>=1.6.3->tensorboard~=2.4->tensorflow==2.*) (4.2.1)\n",
      "Requirement already satisfied: pyasn1-modules>=0.2.1 in c:\\users\\nicolasachury\\.conda\\envs\\tensorflow\\lib\\site-packages (from google-auth<2,>=1.6.3->tensorboard~=2.4->tensorflow==2.*) (0.2.8)\n",
      "Requirement already satisfied: rsa<5,>=3.1.4 in c:\\users\\nicolasachury\\.conda\\envs\\tensorflow\\lib\\site-packages (from google-auth<2,>=1.6.3->tensorboard~=2.4->tensorflow==2.*) (4.7.2)\n",
      "Requirement already satisfied: requests-oauthlib>=0.7.0 in c:\\users\\nicolasachury\\.conda\\envs\\tensorflow\\lib\\site-packages (from google-auth-oauthlib<0.5,>=0.4.1->tensorboard~=2.4->tensorflow==2.*) (1.3.0)\n",
      "Requirement already satisfied: pyasn1<0.5.0,>=0.4.6 in c:\\users\\nicolasachury\\.conda\\envs\\tensorflow\\lib\\site-packages (from pyasn1-modules>=0.2.1->google-auth<2,>=1.6.3->tensorboard~=2.4->tensorflow==2.*) (0.4.8)\n",
      "Requirement already satisfied: idna<3,>=2.5 in c:\\users\\nicolasachury\\.conda\\envs\\tensorflow\\lib\\site-packages (from requests<3,>=2.21.0->tensorboard~=2.4->tensorflow==2.*) (2.10)\n",
      "Requirement already satisfied: chardet<5,>=3.0.2 in c:\\users\\nicolasachury\\.conda\\envs\\tensorflow\\lib\\site-packages (from requests<3,>=2.21.0->tensorboard~=2.4->tensorflow==2.*) (4.0.0)\n",
      "Requirement already satisfied: urllib3<1.27,>=1.21.1 in c:\\users\\nicolasachury\\.conda\\envs\\tensorflow\\lib\\site-packages (from requests<3,>=2.21.0->tensorboard~=2.4->tensorflow==2.*) (1.26.4)\n",
      "Requirement already satisfied: certifi>=2017.4.17 in c:\\users\\nicolasachury\\.conda\\envs\\tensorflow\\lib\\site-packages (from requests<3,>=2.21.0->tensorboard~=2.4->tensorflow==2.*) (2020.12.5)\n",
      "Requirement already satisfied: oauthlib>=3.0.0 in c:\\users\\nicolasachury\\.conda\\envs\\tensorflow\\lib\\site-packages (from requests-oauthlib>=0.7.0->google-auth-oauthlib<0.5,>=0.4.1->tensorboard~=2.4->tensorflow==2.*) (3.1.0)\n",
      "Installing collected packages: numpy\n",
      "  Attempting uninstall: numpy\n",
      "    Found existing installation: numpy 1.20.1\n",
      "    Uninstalling numpy-1.20.1:\n",
      "      Successfully uninstalled numpy-1.20.1\n",
      "Successfully installed numpy-1.19.5\n",
      "Requirement already satisfied: tf_slim in c:\\users\\nicolasachury\\.conda\\envs\\tensorflow\\lib\\site-packages (1.1.0)\n",
      "Requirement already satisfied: absl-py>=0.2.2 in c:\\users\\nicolasachury\\.conda\\envs\\tensorflow\\lib\\site-packages (from tf_slim) (0.12.0)\n",
      "Requirement already satisfied: six in c:\\users\\nicolasachury\\appdata\\roaming\\python\\python39\\site-packages (from absl-py>=0.2.2->tf_slim) (1.15.0)\n",
      "Requirement already satisfied: pycocotools in c:\\users\\nicolasachury\\.conda\\envs\\tensorflow\\lib\\site-packages (2.0.2)\n",
      "Requirement already satisfied: cython>=0.27.3 in c:\\users\\nicolasachury\\.conda\\envs\\tensorflow\\lib\\site-packages (from pycocotools) (0.29.23)\n",
      "Requirement already satisfied: setuptools>=18.0 in c:\\users\\nicolasachury\\.conda\\envs\\tensorflow\\lib\\site-packages (from pycocotools) (52.0.0.post20210125)\n",
      "Requirement already satisfied: matplotlib>=2.1.0 in c:\\users\\nicolasachury\\.conda\\envs\\tensorflow\\lib\\site-packages (from pycocotools) (3.4.1)\n",
      "Requirement already satisfied: cycler>=0.10 in c:\\users\\nicolasachury\\.conda\\envs\\tensorflow\\lib\\site-packages (from matplotlib>=2.1.0->pycocotools) (0.10.0)\n",
      "Requirement already satisfied: python-dateutil>=2.7 in c:\\users\\nicolasachury\\appdata\\roaming\\python\\python39\\site-packages (from matplotlib>=2.1.0->pycocotools) (2.8.1)\n",
      "Requirement already satisfied: numpy>=1.16 in c:\\users\\nicolasachury\\.conda\\envs\\tensorflow\\lib\\site-packages (from matplotlib>=2.1.0->pycocotools) (1.19.5)\n",
      "Requirement already satisfied: pyparsing>=2.2.1 in c:\\users\\nicolasachury\\.conda\\envs\\tensorflow\\lib\\site-packages (from matplotlib>=2.1.0->pycocotools) (2.4.7)\n",
      "Requirement already satisfied: pillow>=6.2.0 in c:\\users\\nicolasachury\\.conda\\envs\\tensorflow\\lib\\site-packages (from matplotlib>=2.1.0->pycocotools) (8.2.0)\n",
      "Requirement already satisfied: kiwisolver>=1.0.1 in c:\\users\\nicolasachury\\.conda\\envs\\tensorflow\\lib\\site-packages (from matplotlib>=2.1.0->pycocotools) (1.3.1)\n",
      "Requirement already satisfied: six in c:\\users\\nicolasachury\\appdata\\roaming\\python\\python39\\site-packages (from cycler>=0.10->matplotlib>=2.1.0->pycocotools) (1.15.0)\n"
     ]
    },
    {
     "name": "stdout",
     "output_type": "stream",
     "text": [
      "INFO:tensorflow:Enabling eager execution\n",
      "INFO:tensorflow:Enabling v2 tensorshape\n",
      "INFO:tensorflow:Enabling resource variables\n",
      "INFO:tensorflow:Enabling tensor equality\n",
      "INFO:tensorflow:Enabling control flow v2\n"
     ]
    }
   ],
   "source": [
    "# Make sure the required libraries are installed.\n",
    "!pip install -U --pre tensorflow==\"2.*\"\n",
    "!pip install tf_slim\n",
    "!pip install pycocotools\n",
    "\n",
    "import numpy as np\n",
    "import tensorflow as tf\n",
    "import pathlib\n",
    "from object_detection.utils import ops as utils_ops\n",
    "from object_detection.utils import label_map_util\n",
    "from object_detection.utils import visualization_utils as vis_util\n",
    "from PIL import Image, ImageTk\n",
    "import tkinter as tk\n",
    "from tkinter import simpledialog\n",
    "from tkinter import messagebox\n",
    "import time\n",
    "\n",
    "\n",
    "# patch tf1 into `utils.ops`\n",
    "utils_ops.tf = tf.compat.v1\n",
    "\n",
    "# Patch the location of gfile\n",
    "tf.gfile = tf.io.gfile"
   ]
  },
  {
   "cell_type": "markdown",
   "metadata": {},
   "source": [
    "### Load Label Map"
   ]
  },
  {
   "cell_type": "code",
   "execution_count": 2,
   "metadata": {},
   "outputs": [],
   "source": [
    "PATH_TO_LABELS = \"object_detection/training/labelmap.pbtxt\"\n",
    "category_index = label_map_util.create_category_index_from_labelmap(PATH_TO_LABELS, use_display_name=True)"
   ]
  },
  {
   "cell_type": "markdown",
   "metadata": {},
   "source": [
    "### Load Images"
   ]
  },
  {
   "cell_type": "code",
   "execution_count": 3,
   "metadata": {},
   "outputs": [],
   "source": [
    "import pathlib\n",
    "PATH_TO_TEST_IMAGES_DIR = pathlib.Path('object_detection/test_images')\n",
    "TEST_IMAGE_PATHS = sorted(list(PATH_TO_TEST_IMAGES_DIR.glob(\"*.jpg\")))"
   ]
  },
  {
   "cell_type": "markdown",
   "metadata": {},
   "source": [
    "### Load Model"
   ]
  },
  {
   "cell_type": "code",
   "execution_count": 4,
   "metadata": {},
   "outputs": [
    {
     "name": "stderr",
     "output_type": "stream",
     "text": [
      "WARNING:absl:Importing a function (__inference_EfficientDet-D0_layer_call_and_return_conditional_losses_99813) with ops with custom gradients. Will likely fail if a gradient is requested.\n",
      "WARNING:absl:Importing a function (__inference_EfficientDet-D0_layer_call_and_return_conditional_losses_96205) with ops with custom gradients. Will likely fail if a gradient is requested.\n",
      "WARNING:absl:Importing a function (__inference_EfficientDet-D0_layer_call_and_return_conditional_losses_90200) with ops with custom gradients. Will likely fail if a gradient is requested.\n",
      "WARNING:absl:Importing a function (__inference_call_func_18512) with ops with custom gradients. Will likely fail if a gradient is requested.\n",
      "WARNING:absl:Importing a function (__inference_EfficientDet-D0_layer_call_and_return_conditional_losses_86592) with ops with custom gradients. Will likely fail if a gradient is requested.\n",
      "WARNING:absl:Importing a function (__inference_bifpn_layer_call_and_return_conditional_losses_64447) with ops with custom gradients. Will likely fail if a gradient is requested.\n",
      "WARNING:absl:Importing a function (__inference_bifpn_layer_call_and_return_conditional_losses_62827) with ops with custom gradients. Will likely fail if a gradient is requested.\n",
      "WARNING:absl:Importing a function (__inference_call_func_80845) with ops with custom gradients. Will likely fail if a gradient is requested.\n"
     ]
    }
   ],
   "source": [
    "detection_model = tf.saved_model.load(\"object_detection/inference_graph/saved_model\")"
   ]
  },
  {
   "cell_type": "code",
   "execution_count": 5,
   "metadata": {},
   "outputs": [
    {
     "name": "stdout",
     "output_type": "stream",
     "text": [
      "{'detection_anchor_indices': tf.float32, 'detection_boxes': tf.float32, 'detection_classes': tf.float32, 'detection_multiclass_scores': tf.float32, 'detection_scores': tf.float32, 'num_detections': tf.float32, 'raw_detection_boxes': tf.float32, 'raw_detection_scores': tf.float32}\n",
      "{'detection_anchor_indices': TensorShape([1, 100]), 'detection_boxes': TensorShape([1, 100, 4]), 'detection_classes': TensorShape([1, 100]), 'detection_multiclass_scores': TensorShape([1, 100, 1]), 'detection_scores': TensorShape([1, 100]), 'num_detections': TensorShape([1]), 'raw_detection_boxes': TensorShape([1, 49104, 4]), 'raw_detection_scores': TensorShape([1, 49104, 1])}\n"
     ]
    }
   ],
   "source": [
    "# Print the model signatures to make sure it is working properly\n",
    "print(detection_model.signatures['serving_default'].output_dtypes)\n",
    "print(detection_model.signatures['serving_default'].output_shapes)"
   ]
  },
  {
   "cell_type": "markdown",
   "metadata": {},
   "source": [
    "### Inference Functions - Tensorflow Colab"
   ]
  },
  {
   "cell_type": "code",
   "execution_count": 6,
   "metadata": {},
   "outputs": [],
   "source": [
    "def run_inference_for_single_image(model, image):\n",
    "    \n",
    "  image = np.asarray(image)\n",
    "  # The input needs to be a tensor, convert it using `tf.convert_to_tensor`.\n",
    "  input_tensor = tf.convert_to_tensor(image)\n",
    "  # The model expects a batch of images, so add an axis with `tf.newaxis`.\n",
    "  input_tensor = input_tensor[tf.newaxis,...]\n",
    "\n",
    "  # Run inference\n",
    "  model_fn = model.signatures['serving_default']\n",
    "  output_dict = model_fn(input_tensor)\n",
    "\n",
    "  # All outputs are batches tensors.\n",
    "  # Convert to numpy arrays, and take index [0] to remove the batch dimension.\n",
    "  # We're only interested in the first num_detections.\n",
    "  num_detections = int(output_dict.pop('num_detections'))\n",
    "  output_dict = {key:value[0, :num_detections].numpy() \n",
    "                 for key,value in output_dict.items()}\n",
    "  output_dict['num_detections'] = num_detections\n",
    "\n",
    "  # detection_classes should be ints.\n",
    "  output_dict['detection_classes'] = output_dict['detection_classes'].astype(np.int64)\n",
    "   \n",
    "  # Handle models with masks:\n",
    "  if 'detection_masks' in output_dict:\n",
    "    # Reframe the the bbox mask to the image size.\n",
    "    detection_masks_reframed = utils_ops.reframe_box_masks_to_image_masks(\n",
    "              output_dict['detection_masks'], output_dict['detection_boxes'],\n",
    "               image.shape[0], image.shape[1])      \n",
    "    detection_masks_reframed = tf.cast(detection_masks_reframed > 0.5,\n",
    "                                       tf.uint8)\n",
    "    output_dict['detection_masks_reframed'] = detection_masks_reframed.numpy()\n",
    "    \n",
    "  return output_dict"
   ]
  },
  {
   "cell_type": "code",
   "execution_count": 8,
   "metadata": {},
   "outputs": [],
   "source": [
    "def show_inference(model, image_path):\n",
    "  \n",
    "  Msgflag = 0\n",
    "  img = 0\n",
    "  # the array based representation of the image will be used later in order to prepare the\n",
    "  # result image with boxes and labels on it.\n",
    "  image_np = np.array(Image.open(image_path))\n",
    "  # Actual detection.\n",
    "  output_dict = run_inference_for_single_image(model, image_np)\n",
    "  # Visualization of the results of a detection.\n",
    "  vis_util.visualize_boxes_and_labels_on_image_array(\n",
    "      image_np,\n",
    "      output_dict['detection_boxes'],\n",
    "      output_dict['detection_classes'],\n",
    "      output_dict['detection_scores'],\n",
    "      category_index,\n",
    "      instance_masks=output_dict.get('detection_masks_reframed', None),\n",
    "      groundtruth_box_visualization_color='blue',\n",
    "      use_normalized_coordinates=True,\n",
    "      line_thickness=5)\n",
    "  \n",
    "  if (output_dict['detection_scores'][0])>=0.5:\n",
    "    img = Image.fromarray(image_np)\n",
    "  else:\n",
    "    Msgflag = 1\n",
    "\n",
    "  return Msgflag, img\n"
   ]
  },
  {
   "cell_type": "markdown",
   "metadata": {},
   "source": [
    "### Detect Wally"
   ]
  },
  {
   "cell_type": "code",
   "execution_count": null,
   "metadata": {},
   "outputs": [],
   "source": [
    "# Image selection\n",
    "root = tk.Tk()\n",
    "root.withdraw()\n",
    "answer = simpledialog.askstring(\"Select Image\", \"Select an image between 0 and 17\",\n",
    "                                parent=root)\n",
    "# Showing image\n",
    "if answer != None:\n",
    "    path = str(TEST_IMAGE_PATHS[int(answer)])\n",
    "    img = Image.open(path)  \n",
    "    img.show()\n",
    "    \n",
    "# Allowed time to find Wally in Sec\n",
    "    time.sleep(10)\n",
    "    root = tk.Tk()\n",
    "    root.withdraw()\n",
    "    MsgBox = messagebox.askyesno ('Hey','Did you find Wally?',icon = 'question', parent=root)\n",
    "\n",
    "# Detect Wally\n",
    "    if MsgBox == False:\n",
    "\n",
    "        MsgBox, Img = show_inference(detection_model, TEST_IMAGE_PATHS[int(answer)])\n",
    "        if MsgBox == 0:\n",
    "            root = tk.Tk()\n",
    "            root.withdraw()\n",
    "            Ok = messagebox.showinfo(\"Hey\",\"Wally Found!\")\n",
    "            if Ok == \"ok\":\n",
    "                Img.show()\n",
    "        if MsgBox == 1:\n",
    "            root = tk.Tk()\n",
    "            root.withdraw()\n",
    "            messagebox.showinfo ('Hey','Sorry, Wally not found')"
   ]
  },
  {
   "cell_type": "code",
   "execution_count": null,
   "metadata": {},
   "outputs": [],
   "source": []
  }
 ],
 "metadata": {
  "accelerator": "GPU",
  "colab": {
   "collapsed_sections": [],
   "last_runtime": {
    "build_target": "//learning/brain/python/client:colab_notebook",
    "kind": "private"
   },
   "name": "object_detection_tutorial.ipynb",
   "private_outputs": true,
   "provenance": [
    {
     "file_id": "/piper/depot/google3/third_party/tensorflow_models/object_detection/colab_tutorials/object_detection_tutorial.ipynb",
     "timestamp": 1594335690840
    },
    {
     "file_id": "1LNYL6Zsn9Xlil2CVNOTsgDZQSBKeOjCh",
     "timestamp": 1566498233247
    },
    {
     "file_id": "/piper/depot/google3/third_party/tensorflow_models/object_detection/object_detection_tutorial.ipynb?workspaceId=markdaoust:copybara_AFABFE845DCD573AD3D43A6BAFBE77D4_0::citc",
     "timestamp": 1566488313397
    },
    {
     "file_id": "/piper/depot/google3/third_party/py/tensorflow_docs/g3doc/en/r2/tutorials/generative/object_detection_tutorial.ipynb?workspaceId=markdaoust:copybara_AFABFE845DCD573AD3D43A6BAFBE77D4_0::citc",
     "timestamp": 1566145894046
    },
    {
     "file_id": "1nBPoWynOV0auSIy40eQcBIk9C6YRSkI8",
     "timestamp": 1566145841085
    },
    {
     "file_id": "/piper/depot/google3/third_party/tensorflow_models/object_detection/object_detection_tutorial.ipynb?workspaceId=markdaoust:copybara_AFABFE845DCD573AD3D43A6BAFBE77D4_0::citc",
     "timestamp": 1556295408037
    },
    {
     "file_id": "1layerger-51XwWOwYMY_5zHaCavCeQkO",
     "timestamp": 1556214267924
    },
    {
     "file_id": "/piper/depot/google3/third_party/tensorflow_models/object_detection/object_detection_tutorial.ipynb?workspaceId=markdaoust:copybara_AFABFE845DCD573AD3D43A6BAFBE77D4_0::citc",
     "timestamp": 1556207836484
    },
    {
     "file_id": "1w6mqQiNV3liPIX70NOgitOlDF1_4sRMw",
     "timestamp": 1556154824101
    },
    {
     "file_id": "https://github.com/tensorflow/models/blob/master/research/object_detection/object_detection_tutorial.ipynb",
     "timestamp": 1556150293326
    }
   ]
  },
  "kernelspec": {
   "display_name": "Python 3",
   "language": "python",
   "name": "python3"
  },
  "language_info": {
   "codemirror_mode": {
    "name": "ipython",
    "version": 3
   },
   "file_extension": ".py",
   "mimetype": "text/x-python",
   "name": "python",
   "nbconvert_exporter": "python",
   "pygments_lexer": "ipython3",
   "version": "3.9.4"
  }
 },
 "nbformat": 4,
 "nbformat_minor": 1
}
