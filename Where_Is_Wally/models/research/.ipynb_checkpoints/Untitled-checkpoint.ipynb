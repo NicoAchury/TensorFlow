{
 "cells": [
  {
   "cell_type": "code",
   "execution_count": 22,
   "metadata": {},
   "outputs": [],
   "source": [
    "import pathlib\n",
    "import tkinter as tk\n",
    "from tkinter import font\n",
    "import requests\n",
    "from PIL import ImageTk, Image\n",
    "from tkinter import simpledialog\n",
    "import time\n",
    "from tkinter import messagebox"
   ]
  },
  {
   "cell_type": "code",
   "execution_count": 23,
   "metadata": {},
   "outputs": [],
   "source": [
    "PATH_TO_TEST_IMAGES_DIR = pathlib.Path('object_detection/test_images')\n",
    "TEST_IMAGE_PATHS = sorted(list(PATH_TO_TEST_IMAGES_DIR.glob(\"*.jpg\")))"
   ]
  },
  {
   "cell_type": "code",
   "execution_count": null,
   "metadata": {},
   "outputs": [],
   "source": []
  },
  {
   "cell_type": "code",
   "execution_count": 26,
   "metadata": {},
   "outputs": [],
   "source": [
    "root = tk.Tk()\n",
    "root.withdraw()\n",
    "\n",
    "answer = simpledialog.askstring(\"Select Image\", \"Select an image between 1 and 10\",\n",
    "                                parent=root)\n",
    "path = str(TEST_IMAGE_PATHS[int(answer)])\n",
    "img = Image.open(path)  \n",
    "img.show()\n",
    "\n",
    "time.sleep(10)\n",
    "\n",
    "root = tk.Tk()\n",
    "root.withdraw()\n",
    "MsgBox = tk.messagebox.askyesno ('Hey','Did you find Wally?',icon = 'question', parent=root)\n",
    "\n",
    "\n",
    "\n"
   ]
  },
  {
   "cell_type": "code",
   "execution_count": null,
   "metadata": {},
   "outputs": [],
   "source": []
  }
 ],
 "metadata": {
  "kernelspec": {
   "display_name": "Python 3",
   "language": "python",
   "name": "python3"
  },
  "language_info": {
   "codemirror_mode": {
    "name": "ipython",
    "version": 3
   },
   "file_extension": ".py",
   "mimetype": "text/x-python",
   "name": "python",
   "nbconvert_exporter": "python",
   "pygments_lexer": "ipython3",
   "version": "3.7.9"
  }
 },
 "nbformat": 4,
 "nbformat_minor": 4
}
